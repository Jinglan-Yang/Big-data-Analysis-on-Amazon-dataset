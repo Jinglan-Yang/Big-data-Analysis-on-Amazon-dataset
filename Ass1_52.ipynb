{
 "cells": [
  {
   "cell_type": "markdown",
   "id": "285a4873-ff33-4ff1-b7d2-0032254484fe",
   "metadata": {},
   "source": [
    "## <font color='red'> INSTRUCTIONS </font>"
   ]
  },
  {
   "cell_type": "markdown",
   "id": "89957ed8-c2d1-4592-8821-88806390d1cc",
   "metadata": {},
   "source": [
    "<b> \n",
    "1. Write your code only in cells below the \"WRITE CODE BELOW\" title. Do not modify the code below the \"DO NOT MODIFY\" title. <br>\n",
    "2. The expected data types of the output answers for each question are given in the last cell through assertion statements. Your answers must match these expected output data types. Hint: Many of the answers need to be a Python dictionary. Consider methods like to_dict() to convert a Pandas Series to a dictionary. <br>\n",
    "3. The answers are then written to a JSON file named my_results_PA1.json. You can compare this with the provided expected output file \"expected_results_PA1.json\". <br>\n",
    "4. After you complete writing your code, click \"Kernel -> Restart Kernel and Run All Cells\" on the top toolbar. There should NOT be any syntax/runtime errors, otherwise points will be deducted. <br>\n",
    "5. For submitting your solution, first download your notebook by clicking \"File -> Download\". Rename the file as &ltTEAM_ID&gt.ipynb\" and upload to Canvas.</b>\n"
   ]
  },
  {
   "cell_type": "markdown",
   "id": "2e5f7e94-c5b1-494c-8aab-832242527a4e",
   "metadata": {},
   "source": [
    "## <font color='red'> DO NOT MODIFY </font>"
   ]
  },
  {
   "cell_type": "code",
   "execution_count": 1,
   "id": "76f3c8d7-690f-428b-982d-94265b4a7f02",
   "metadata": {
    "ExecuteTime": {
     "end_time": "2023-10-25T03:01:25.156283Z",
     "start_time": "2023-10-25T03:01:23.535656Z"
    }
   },
   "outputs": [
    {
     "name": "stdout",
     "output_type": "stream",
     "text": [
      "<Client: 'tcp://172.31.26.81:8786' processes=4 threads=4, memory=15.62 GiB>\n"
     ]
    }
   ],
   "source": [
    "import time\n",
    "import json\n",
    "import dask\n",
    "import dask.dataframe as dd\n",
    "import pandas as pd\n",
    "import ast\n",
    "import re\n",
    "from dask.distributed import Client, as_completed\n",
    "import ctypes\n",
    "import numpy as np\n",
    "import warnings\n",
    "warnings.simplefilter('ignore')\n",
    "\n",
    "def trim_memory() -> int:\n",
    "    \"\"\"\n",
    "    helps to fix any memory leaks.\n",
    "    \"\"\"\n",
    "    libc = ctypes.CDLL(\"libc.so.6\")\n",
    "    return libc.malloc_trim(0)\n",
    "\n",
    "client = Client(\"127.0.0.1:8786\")\n",
    "client.run(trim_memory)\n",
    "client = client.restart()\n",
    "print(client)"
   ]
  },
  {
   "cell_type": "code",
   "execution_count": 2,
   "id": "eb6ac532-d64f-4659-9cc8-94481f48c366",
   "metadata": {
    "ExecuteTime": {
     "end_time": "2023-10-25T03:01:25.157205Z",
     "start_time": "2023-10-25T03:01:25.154140Z"
    }
   },
   "outputs": [],
   "source": [
    "start = time.time()"
   ]
  },
  {
   "cell_type": "markdown",
   "id": "fa3b6eb9-e5d7-423a-a0bc-7b86e6db1ab4",
   "metadata": {},
   "source": [
    "## <font color='blue'> WRITE CODE BELOW </font>"
   ]
  },
  {
   "cell_type": "code",
   "execution_count": 3,
   "id": "f2b440e3b0c2b146",
   "metadata": {
    "ExecuteTime": {
     "end_time": "2023-10-25T03:01:25.193784Z",
     "start_time": "2023-10-25T03:01:25.160969Z"
    },
    "collapsed": false,
    "jupyter": {
     "outputs_hidden": false
    }
   },
   "outputs": [],
   "source": [
    "df_reviews = dd.read_csv('user_reviews.csv')\n",
    "df_products = dd.read_csv('products.csv', dtype={'asin': 'object'})"
   ]
  },
  {
   "cell_type": "markdown",
   "id": "980579c535592063",
   "metadata": {
    "collapsed": false,
    "jupyter": {
     "outputs_hidden": false
    }
   },
   "source": [
    "### Question 1 & 2 ###"
   ]
  },
  {
   "cell_type": "code",
   "execution_count": 4,
   "id": "9830280fd51e271a",
   "metadata": {
    "ExecuteTime": {
     "end_time": "2023-10-25T03:01:25.198120Z",
     "start_time": "2023-10-25T03:01:25.183103Z"
    },
    "collapsed": false,
    "jupyter": {
     "outputs_hidden": false
    }
   },
   "outputs": [],
   "source": [
    "def count_missing(df):\n",
    "    missing_values = dask.delayed(df.isna().sum())\n",
    "    total_rows = df.shape[0]\n",
    "    missing_percentage = (missing_values / total_rows) * 100\n",
    "    \n",
    "    return missing_percentage\n",
    "\n",
    "missing_reviews = count_missing(df_reviews)\n",
    "missing_products = count_missing(df_products)"
   ]
  },
  {
   "cell_type": "markdown",
   "id": "7200fb6cab35272c",
   "metadata": {
    "collapsed": false,
    "jupyter": {
     "outputs_hidden": false
    }
   },
   "source": [
    "### Qustion 3 ###"
   ]
  },
  {
   "cell_type": "code",
   "execution_count": 5,
   "id": "fbf98498adf2ee0a",
   "metadata": {
    "ExecuteTime": {
     "end_time": "2023-10-25T03:01:25.204083Z",
     "start_time": "2023-10-25T03:01:25.193141Z"
    },
    "collapsed": false,
    "jupyter": {
     "outputs_hidden": false
    }
   },
   "outputs": [],
   "source": [
    "df_merge = df_reviews[['asin', 'overall']].merge(df_products[['asin', 'price']], on='asin', how='left')\n",
    "ans3 = df_merge['overall'].corr(df_merge['price'])"
   ]
  },
  {
   "cell_type": "markdown",
   "id": "f6fdc5a048d36e26",
   "metadata": {
    "collapsed": false,
    "jupyter": {
     "outputs_hidden": false
    }
   },
   "source": [
    "### Question 4 ###"
   ]
  },
  {
   "cell_type": "code",
   "execution_count": 6,
   "id": "fa2eb0e6540fd5ca",
   "metadata": {
    "ExecuteTime": {
     "end_time": "2023-10-25T03:01:25.212539Z",
     "start_time": "2023-10-25T03:01:25.204607Z"
    },
    "collapsed": false,
    "jupyter": {
     "outputs_hidden": false
    }
   },
   "outputs": [],
   "source": [
    "ans4 = df_products['price'].describe()"
   ]
  },
  {
   "cell_type": "markdown",
   "id": "1e1c6bc164d7f91b",
   "metadata": {
    "collapsed": false,
    "jupyter": {
     "outputs_hidden": false
    }
   },
   "source": [
    "### Question 5 ###"
   ]
  },
  {
   "cell_type": "code",
   "execution_count": 7,
   "id": "321cf3c1f77fbd70",
   "metadata": {
    "ExecuteTime": {
     "end_time": "2023-10-25T03:01:25.225244Z",
     "start_time": "2023-10-25T03:01:25.219297Z"
    },
    "collapsed": false,
    "jupyter": {
     "outputs_hidden": false
    }
   },
   "outputs": [],
   "source": [
    "def extract_text_between_quotes(text):\n",
    "    start = text.find(\"'\")\n",
    "    end = text.find(\"'\", start + 1)\n",
    "    if text[end + 1].isalpha():\n",
    "        start = text.find('\"')\n",
    "        end = text.find('\"', start + 1)\n",
    "        return text[start + 1: end]\n",
    "    else:\n",
    "        return text[start + 1:end]  \n",
    "\n",
    "\n",
    "\n",
    "df_products['super_category'] = df_products['categories'].dropna().astype(str).apply(extract_text_between_quotes, meta=('super_category', 'object'))\n",
    "category_counts = df_products.groupby('super_category', sort=False).size()"
   ]
  },
  {
   "cell_type": "code",
   "execution_count": 8,
   "id": "f48c74a0f16f3d39",
   "metadata": {
    "ExecuteTime": {
     "end_time": "2023-10-25T03:01:25.225486Z",
     "start_time": "2023-10-25T03:01:25.222490Z"
    },
    "collapsed": false,
    "jupyter": {
     "outputs_hidden": false
    }
   },
   "outputs": [],
   "source": [
    "valid_product_ids = df_products['asin'].unique()\n",
    "unique_asins = df_products['asin'].unique()\n",
    "related_asins = df_products['related'].explode()"
   ]
  },
  {
   "cell_type": "code",
   "execution_count": 9,
   "id": "9cc9825ac2deb27b",
   "metadata": {
    "ExecuteTime": {
     "end_time": "2023-10-25T03:03:35.607769Z",
     "start_time": "2023-10-25T03:01:25.243116Z"
    },
    "collapsed": false,
    "jupyter": {
     "outputs_hidden": false
    }
   },
   "outputs": [],
   "source": [
    "ans1, ans2, ans3, ans4, valid_product_ids, related_asins, category_counts = dask.compute(missing_reviews, missing_products, ans3, ans4, valid_product_ids, related_asins, category_counts)\n",
    "ans1 = ans1.round(2).to_dict()\n",
    "ans2 = ans2.round(2).to_dict()\n",
    "ans3 = round(ans3, 2)\n",
    "ans4 = ans4[['mean', 'std', 'min', 'max', '50%']].to_dict()\n",
    "ans4['median'] = ans4.pop('50%')\n",
    "ans5 = dict(sorted(category_counts.items(), key=lambda x: (-x[1], x[0])))\n",
    "del ans5['']"
   ]
  },
  {
   "cell_type": "markdown",
   "id": "cac6ee40aee9b532",
   "metadata": {
    "collapsed": false,
    "jupyter": {
     "outputs_hidden": false
    }
   },
   "source": [
    "### Question 6 ###"
   ]
  },
  {
   "cell_type": "code",
   "execution_count": 10,
   "id": "d9561c33c430107d",
   "metadata": {
    "ExecuteTime": {
     "end_time": "2023-10-25T03:04:00.864212Z",
     "start_time": "2023-10-25T03:03:35.807555Z"
    },
    "collapsed": false,
    "jupyter": {
     "outputs_hidden": false
    }
   },
   "outputs": [],
   "source": [
    "def check_dangling(partition, products_ids):\n",
    "    for item in partition['asin']:\n",
    "        if item not in products_ids:\n",
    "            return 1\n",
    "    return 0\n",
    "\n",
    "\n",
    "delayed_results = df_reviews.map_partitions(check_dangling, valid_product_ids, meta=int, align_dataframes=False).to_delayed()\n",
    "\n",
    "delayed_iter = iter(delayed_results)\n",
    "\n",
    "futures = [client.compute(next(delayed_iter)) for _ in range(min(5, len(delayed_results)))]\n",
    "\n",
    "ans6 = 0\n",
    "\n",
    "for future in as_completed(futures):\n",
    "    result = future.result()\n",
    "    if result == 1:\n",
    "        ans6 = 1\n",
    "        for item in futures:\n",
    "            item.cancel()\n",
    "        break\n",
    "    try:\n",
    "        next_future = client.compute(next(delayed_iter))\n",
    "        futures.append(next_future)\n",
    "    except StopIteration:\n",
    "        break\n"
   ]
  },
  {
   "cell_type": "markdown",
   "id": "86e43366c79d1607",
   "metadata": {
    "collapsed": false,
    "jupyter": {
     "outputs_hidden": false
    }
   },
   "source": [
    "### Question 7 ###"
   ]
  },
  {
   "cell_type": "code",
   "execution_count": 11,
   "id": "4025299833f9f43c",
   "metadata": {
    "ExecuteTime": {
     "end_time": "2023-10-25T03:04:05.901205Z",
     "start_time": "2023-10-25T03:04:05.813867Z"
    },
    "collapsed": false,
    "jupyter": {
     "outputs_hidden": false
    }
   },
   "outputs": [],
   "source": [
    "def check_dangling_2(related_asins, product_ids):\n",
    "    for item in related_asins:\n",
    "        if item not in product_ids:\n",
    "            return 1\n",
    "    return 0\n",
    "\n",
    "ans7 = check_dangling_2(related_asins, valid_product_ids)"
   ]
  },
  {
   "cell_type": "markdown",
   "id": "c7d92954-28b3-4ad0-b7de-d8b8f4816c80",
   "metadata": {},
   "source": [
    "## <font color='red'> DO NOT MODIFY </font>"
   ]
  },
  {
   "cell_type": "code",
   "execution_count": 12,
   "id": "c438177d-8c4d-4871-bbc6-bea2f0a004b3",
   "metadata": {
    "ExecuteTime": {
     "end_time": "2023-10-25T03:04:05.906758Z",
     "start_time": "2023-10-25T03:04:05.901813Z"
    }
   },
   "outputs": [],
   "source": [
    "end = time.time()"
   ]
  },
  {
   "cell_type": "code",
   "execution_count": 13,
   "id": "0adca53b-b276-4297-8434-6c0e94810d72",
   "metadata": {
    "ExecuteTime": {
     "end_time": "2023-10-25T03:04:05.908344Z",
     "start_time": "2023-10-25T03:04:05.906978Z"
    }
   },
   "outputs": [
    {
     "name": "stdout",
     "output_type": "stream",
     "text": [
      "execution time = 456.8798100948334s\n"
     ]
    }
   ],
   "source": [
    "print(f\"execution time = {end-start}s\")"
   ]
  },
  {
   "cell_type": "code",
   "execution_count": 14,
   "id": "935be195-dcc9-4e97-911a-bae25e2a70f3",
   "metadata": {
    "ExecuteTime": {
     "end_time": "2023-10-25T03:04:05.913590Z",
     "start_time": "2023-10-25T03:04:05.910660Z"
    }
   },
   "outputs": [],
   "source": [
    "# DO NOT MODIFY\n",
    "assert type(ans1) == dict, f\"answer to question 1 must be a dictionary like {{'reviewerID':0.2, ..}}, got type = {type(ans1)}\"\n",
    "assert type(ans2) == dict, f\"answer to question 2 must be a dictionary like {{'asin':0.2, ..}}, got type = {type(ans2)}\"\n",
    "assert type(ans3) == float, f\"answer to question 3 must be a float like 0.8, got type = {type(ans3)}\"\n",
    "assert type(ans4) == dict, f\"answer to question 4 must be a dictionary like {{'mean':0.4,'max':0.6,'median':0.6...}}, got type = {type(ans4)}\"\n",
    "assert type(ans5) == dict, f\"answer to question 5 must be a dictionary, got type = {type(ans5)}\"         \n",
    "assert ans6 == 0 or ans6==1, f\"answer to question 6 must be 0 or 1, got value = {ans6}\" \n",
    "assert ans7 == 0 or ans7==1, f\"answer to question 7 must be 0 or 1, got value = {ans7}\" \n",
    "\n",
    "ans_dict = {\n",
    "    \"q1\": ans1,\n",
    "    \"q2\": ans2,\n",
    "    \"q3\": ans3,\n",
    "    \"q4\": ans4,\n",
    "    \"q5\": ans5,\n",
    "    \"q6\": ans6,\n",
    "    \"q7\": ans7,\n",
    "    \"runtime\": end-start\n",
    "}\n",
    "with open('my_results_PA1.json', 'w') as outfile: json.dump(ans_dict, outfile)         "
   ]
  }
 ],
 "metadata": {
  "kernelspec": {
   "display_name": "Python 3 (ipykernel)",
   "language": "python",
   "name": "python3"
  },
  "language_info": {
   "codemirror_mode": {
    "name": "ipython",
    "version": 3
   },
   "file_extension": ".py",
   "mimetype": "text/x-python",
   "name": "python",
   "nbconvert_exporter": "python",
   "pygments_lexer": "ipython3",
   "version": "3.10.12"
  }
 },
 "nbformat": 4,
 "nbformat_minor": 5
}
